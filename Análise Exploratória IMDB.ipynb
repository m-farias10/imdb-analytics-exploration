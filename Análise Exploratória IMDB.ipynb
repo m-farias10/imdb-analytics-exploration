{
 "cells": [
  {
   "cell_type": "markdown",
   "id": "20280e6c",
   "metadata": {},
   "source": [
    "Instalando os Pacotes para Análise Exploratória "
   ]
  },
  {
   "cell_type": "code",
   "execution_count": null,
   "id": "81a1771d",
   "metadata": {},
   "outputs": [],
   "source": [
    "#Import de Biblioteca \n",
    "\n",
    "import re\n",
    "import time \n",
    "import sqlite3\n",
    "import pycountry\n",
    "import pandas as pd\n",
    "import numpy as np\n",
    "import matplotlib.pyplot as plt \n",
    "import seaborn as sns \n",
    "from matplotlib import cm\n",
    "from sklearn.feature_extraction.text import CountVectorizer\n",
    "import warnings\n",
    "warnings.filterwarnings(\"ignore\")\n",
    "sns.set_theme(style= \"whitegrid\")"
   ]
  },
  {
   "cell_type": "raw",
   "id": "c206e6f9",
   "metadata": {},
   "source": [
    "Carregando os Dados"
   ]
  },
  {
   "cell_type": "code",
   "execution_count": null,
   "id": "290696b9",
   "metadata": {},
   "outputs": [],
   "source": [
    
   ]
  },
  {
   "cell_type": "code",
   "execution_count": null,
   "id": "3f438e6d",
   "metadata": {},
   "outputs": [],
   "source": [
    "conn = sqlite3.connect('imdb.db')"
   ]
  },
  {
   "cell_type": "code",
   "execution_count": null,
   "id": "2819f7c6",
   "metadata": {},
   "outputs": [],
   "source": [
    "tabelas = pd.read_sql_query(\"SELECT NAME AS 'Table_Name' FROM sqlite_master WHERE type = 'table'\", conn)"
   ]
  },
  {
   "cell_type": "code",
   "execution_count": null,
   "id": "b68fb902",
   "metadata": {},
   "outputs": [],
   "source": [
    "#Tipo do objeto\n",
    "type(tabelas)"
   ]
  },
  {
   "cell_type": "code",
   "execution_count": null,
   "id": "b07f4950",
   "metadata": {},
   "outputs": [],
   "source": [
    "#Visualizando o resultado\n",
    "\n",
    "tabelas.head()"
   ]
  },
  {
   "cell_type": "code",
   "execution_count": null,
   "id": "59462441",
   "metadata": {
    "scrolled": false
   },
   "outputs": [],
   "source": [
    "#Convertendo o dataframe em uma lista\n",
    "\n",
    "tabelas = tabelas[\"Table_Name\"].values.tolist()"
   ]
  },
  {
   "cell_type": "code",
   "execution_count": null,
   "id": "9178c522",
   "metadata": {
    "scrolled": true
   },
   "outputs": [],
   "source": [
    "# Vamos percorrer a lista de tabelas no banco de dados e extrair o esquema de cada uma\n",
    "for tabela in tabelas:\n",
    "    consulta = \"PRAGMA TABLE_INFO({})\".format(tabela)\n",
    "    resultado = pd.read_sql_query(consulta, conn)\n",
    "    print(\"Esquema da tabela:\", tabela)\n",
    "    display(resultado)\n",
    "    print(\"-\"*100)\n",
    "    print(\"\\n\")"
   ]
  },
  {
   "cell_type": "markdown",
   "id": "afb61d1f",
   "metadata": {},
   "source": [
    "# Quais são as categorias de filmes mais comuns no IMDB?"
   ]
  },
  {
   "cell_type": "code",
   "execution_count": null,
   "id": "ca376c84",
   "metadata": {},
   "outputs": [],
   "source": [
    "#Cria a consulta SQL \n",
    "\n",
    "consulta1 = '''SELECT type, COUNT (*) FROM titles GROUP BY type'''"
   ]
  },
  {
   "cell_type": "code",
   "execution_count": null,
   "id": "145c227b",
   "metadata": {},
   "outputs": [],
   "source": [
    "# Extraindo e visualizando o resultado\n",
    "\n",
    "resultado1 = pd.read_sql_query(consulta1, conn)\n",
    "display(resultado1)"
   ]
  },
  {
   "cell_type": "code",
   "execution_count": null,
   "id": "c355e88d",
   "metadata": {},
   "outputs": [],
   "source": [
    "#Criando o Percentual para cada tipo de filme e visualizando o resultado\n",
    "\n",
    "resultado1['percentual1']= (resultado1['COUNT (*)'] / resultado1['COUNT (*)'].sum()) * 100\n",
    "display(resultado1)"
   ]
  },
  {
   "cell_type": "code",
   "execution_count": null,
   "id": "34b2b1f5",
   "metadata": {},
   "outputs": [],
   "source": [
    "#Criando um gráfico com apenas as 4 categorias: \n",
    "#As 3 categorias com mais títulos e 1 categoria com todo o restante\n",
    "\n",
    "#cria dicionário vazio\n",
    "others = {}\n",
    "\n",
    "#Filtra o percentual em 5% e soma o total\n",
    "others['COUNT (*)'] = resultado1[resultado1['percentual1'] < 5]['COUNT (*)'].sum()\n",
    "\n",
    "#Grava o Percentual \n",
    "others['percentual1']= resultado1[resultado1['percentual1'] < 5]['percentual1'].sum()\n",
    "\n",
    "#Ajusta o nome\n",
    "others['type']= 'others'"
   ]
  },
  {
   "cell_type": "code",
   "execution_count": null,
   "id": "76d0b39b",
   "metadata": {},
   "outputs": [],
   "source": [
    "#visualiza o resultado \n",
    "display(others)"
   ]
  },
  {
   "cell_type": "code",
   "execution_count": null,
   "id": "e9f1c182",
   "metadata": {},
   "outputs": [],
   "source": [
    "resultado1 = resultado1[resultado1['percentual1'] > 5]"
   ]
  },
  {
   "cell_type": "code",
   "execution_count": null,
   "id": "1e948770",
   "metadata": {},
   "outputs": [],
   "source": [
    "resultado1 = resultado1.append(others, ignore_index=True)"
   ]
  },
  {
   "cell_type": "code",
   "execution_count": null,
   "id": "6cdf2521",
   "metadata": {},
   "outputs": [],
   "source": [
    "resultado1 = resultado1.sort_values(by= 'COUNT (*)', ascending= False)"
   ]
  },
  {
   "cell_type": "code",
   "execution_count": null,
   "id": "81cb2ae7",
   "metadata": {},
   "outputs": [],
   "source": [
    "resultado1.head()"
   ]
  },
  {
   "cell_type": "code",
   "execution_count": null,
   "id": "3a21d3b0",
   "metadata": {},
   "outputs": [],
   "source": [
    "# Ajusta os labels\n",
    "labels = [str(resultado1['type'][i])+' '+'['+str(round(resultado1['percentual1'][i],2)) +'%'+']' for i in resultado1.index]"
   ]
  },
  {
   "cell_type": "code",
   "execution_count": null,
   "id": "8a592754",
   "metadata": {},
   "outputs": [],
   "source": [
    "#Plot \n",
    "#Mapa de Cores \n",
    "\n",
    "cs = cm.Set3(np.arange(100))\n",
    "\n",
    "#Cria a figura\n",
    "f = plt.figure()\n",
    "\n",
    "#Pie Plot \n",
    "plt.pie(resultado1['COUNT (*)'], labeldistance = 1, radius = 3, colors = cs, wedgeprops = dict(width = 0.8))\n",
    "plt.legend(labels = labels, loc = 'center', prop = {'size':12})\n",
    "plt.title(\"Distribuição de Títulos\", loc = 'center', fontdict = {'fontsize':20, 'fontweight':20})\n",
    "plt.show()"
   ]
  },
  {
   "cell_type": "markdown",
   "id": "6f830403",
   "metadata": {},
   "source": [
    "# Número de Títulos por Gênero"
   ]
  },
  {
   "cell_type": "code",
   "execution_count": null,
   "id": "7c59b742",
   "metadata": {},
   "outputs": [],
   "source": [
    "#Consulta SQL\n",
    "consulta2 = '''SELECT genres, COUNT(8) FROM titles WHERE type= 'movie' GROUP BY genres '''"
   ]
  },
  {
   "cell_type": "code",
   "execution_count": null,
   "id": "e96aa205",
   "metadata": {},
   "outputs": [],
   "source": [
    "#Resultado\n",
    "resultado2 = pd.read_sql_query(consulta2, conn)"
   ]
  },
  {
   "cell_type": "code",
   "execution_count": null,
   "id": "647dd9e4",
   "metadata": {},
   "outputs": [],
   "source": [
    "#Visualizando resultado\n",
    "display(resultado2)"
   ]
  },
  {
   "cell_type": "code",
   "execution_count": null,
   "id": "7ba338b4",
   "metadata": {},
   "outputs": [],
   "source": [
    "#Convertendo todas as strings maiusculas para minisculas da coluna GENERO\n",
    "resultado2['genres'] = resultado2['genres'].str.lower().values"
   ]
  },
  {
   "cell_type": "code",
   "execution_count": null,
   "id": "fbf0bddd",
   "metadata": {},
   "outputs": [],
   "source": [
    "#Excluindo os valores nulos\n",
    "temp = resultado2['genres'].dropna()"
   ]
  },
  {
   "cell_type": "code",
   "execution_count": null,
   "id": "ac131c9f",
   "metadata": {},
   "outputs": [],
   "source": [
    "# Vamos criar um vetor usando expressão regular para filtrar as strings\n",
    "\n",
    "# https://docs.python.org/3.8/library/re.html\n",
    "padrao = '(?u)\\\\b[\\\\w-]+\\\\b'\n",
    "\n",
    "# https://scikit-learn.org/stable/modules/generated/sklearn.feature_extraction.text.CountVectorizer.html\n",
    "vetor = CountVectorizer(token_pattern = padrao, analyzer = 'word').fit(temp)"
   ]
  },
  {
   "cell_type": "code",
   "execution_count": null,
   "id": "be9c735a",
   "metadata": {},
   "outputs": [],
   "source": [
    "type(vetor)"
   ]
  },
  {
   "cell_type": "code",
   "execution_count": null,
   "id": "bd7aa194",
   "metadata": {},
   "outputs": [],
   "source": [
    "#Aplica a vetorização ao dataset sem os valores NA\n",
    "bag_generos = vetor.transform(temp)"
   ]
  },
  {
   "cell_type": "code",
   "execution_count": null,
   "id": "52b1302e",
   "metadata": {},
   "outputs": [],
   "source": [
    "type(bag_generos)"
   ]
  },
  {
   "cell_type": "code",
   "execution_count": null,
   "id": "f1852879",
   "metadata": {},
   "outputs": [],
   "source": [
    "#Retorna generos unicos\n",
    "generos_unicos = vetor.get_feature_names()"
   ]
  },
  {
   "cell_type": "code",
   "execution_count": null,
   "id": "b155af95",
   "metadata": {},
   "outputs": [],
   "source": [
    "#Cria um dataframe de generos\n",
    "generos = pd.DataFrame(bag_generos.todense(), columns = generos_unicos, index = temp.index)"
   ]
  },
  {
   "cell_type": "code",
   "execution_count": null,
   "id": "c2c71ac8",
   "metadata": {},
   "outputs": [],
   "source": [
    "generos.info()"
   ]
  },
  {
   "cell_type": "code",
   "execution_count": null,
   "id": "5cd298e3",
   "metadata": {},
   "outputs": [],
   "source": [
    "#Excluindo coluna N\n",
    "generos = generos.drop(columns = 'n', axis= 0)"
   ]
  },
  {
   "cell_type": "code",
   "execution_count": null,
   "id": "d797d6d7",
   "metadata": {},
   "outputs": [],
   "source": [
    "#Calculando percentual\n",
    "generos_percentual = 100 * pd.Series(generos.sum().sort_values(ascending= False) / generos.shape[0])"
   ]
  },
  {
   "cell_type": "code",
   "execution_count": null,
   "id": "a46c1484",
   "metadata": {},
   "outputs": [],
   "source": [
    "#Visualizando percentual \n",
    "generos_percentual.head()"
   ]
  },
  {
   "cell_type": "code",
   "execution_count": null,
   "id": "833ca527",
   "metadata": {},
   "outputs": [],
   "source": [
    "#Plot \n",
    "plt.figure(figsize= (16,8))\n",
    "sns.barplot(x = generos_percentual.values, y = generos_percentual.index, orient ='h', palette = \"terrain\")\n",
    "plt.ylabel('Gênero')\n",
    "plt.xlabel(\"\\nPercentual de Filmes (%)\")\n",
    "plt.title('\\nNúmero de Títulos por Gênero')\n",
    "plt.show()"
   ]
  },
  {
   "cell_type": "markdown",
   "id": "c3881764",
   "metadata": {},
   "source": [
    "# Qual a mediana de Avaliação dos filmes por Gênero?"
   ]
  },
  {
   "cell_type": "code",
   "execution_count": null,
   "id": "4e88b12c",
   "metadata": {},
   "outputs": [],
   "source": [
    "#Consulta SQL \n",
    "\n",
    "consulta3 = '''SELECT rating, genres \n",
    "               FROM ratings \n",
    "               JOIN titles \n",
    "               ON ratings.title_id = titles.title_id\n",
    "               WHERE premiered <=2022 and type= 'movie' '''"
   ]
  },
  {
   "cell_type": "code",
   "execution_count": null,
   "id": "e7e79092",
   "metadata": {},
   "outputs": [],
   "source": [
    "#Resultado\n",
    "resultado3 = pd.read_sql_query(consulta3, conn)"
   ]
  },
  {
   "cell_type": "code",
   "execution_count": null,
   "id": "40cfa044",
   "metadata": {},
   "outputs": [],
   "source": [
    "#Visualizando Resultado\n",
    "resultado3.head()"
   ]
  },
  {
   "cell_type": "code",
   "execution_count": null,
   "id": "32bf0f6c",
   "metadata": {},
   "outputs": [],
   "source": [
    "#Cria função para retornar os genêros\n",
    "def retorna_generos(df):\n",
    "    df['genres'] = df['genres'].str.lower().values\n",
    "    temp = df['genres'].dropna()\n",
    "    vetor = CountVectorizer(token_pattern = '(?u)\\\\b[\\\\w-]+\\\\b', analyzer = 'word').fit(temp)\n",
    "    generos_unicos =  vetor.get_feature_names()\n",
    "    generos_unicos = [genre for genre in generos_unicos if len(genre) > 1]\n",
    "    return generos_unicos"
   ]
  },
  {
   "cell_type": "code",
   "execution_count": null,
   "id": "bd2fd6a7",
   "metadata": {},
   "outputs": [],
   "source": [
    "#Aplica a função \n",
    "generos_unicos = retorna_generos(resultado3)"
   ]
  },
  {
   "cell_type": "code",
   "execution_count": null,
   "id": "3dcef47d",
   "metadata": {},
   "outputs": [],
   "source": [
    "#Visualiza o resultdo\n",
    "display(generos_unicos)"
   ]
  },
  {
   "cell_type": "code",
   "execution_count": null,
   "id": "63b71d4a",
   "metadata": {},
   "outputs": [],
   "source": [
    "generos_counts = []\n",
    "generos_ratings = []"
   ]
  },
  {
   "cell_type": "code",
   "execution_count": null,
   "id": "ac19fcfa",
   "metadata": {},
   "outputs": [],
   "source": [
    "# Loop\n",
    "for item in generos_unicos:\n",
    "    \n",
    "    # Retorna a contagem de filmes por gênero\n",
    "    consulta = 'SELECT COUNT(rating) FROM ratings JOIN titles ON ratings.title_id=titles.title_id WHERE genres LIKE '+ '\\''+'%'+item+'%'+'\\' AND type=\\'movie\\''\n",
    "    resultado = pd.read_sql_query(consulta, conn)\n",
    "    generos_counts.append(resultado.values[0][0])\n",
    "  \n",
    "     # Retorna a avaliação de filmes por gênero\n",
    "    consulta = 'SELECT rating FROM ratings JOIN titles ON ratings.title_id=titles.title_id WHERE genres LIKE '+ '\\''+'%'+item+'%'+'\\' AND type=\\'movie\\''\n",
    "    resultado = pd.read_sql_query(consulta, conn)\n",
    "    generos_ratings.append(np.median(resultado['rating']))"
   ]
  },
  {
   "cell_type": "code",
   "execution_count": null,
   "id": "6d177b48",
   "metadata": {},
   "outputs": [],
   "source": [
    "# Prepara o dataframe final\n",
    "df_genero_ratings = pd.DataFrame()\n",
    "df_genero_ratings['genres'] = generos_unicos\n",
    "df_genero_ratings['count'] = generos_counts\n",
    "df_genero_ratings['rating'] = generos_ratings"
   ]
  },
  {
   "cell_type": "code",
   "execution_count": null,
   "id": "7598e91c",
   "metadata": {},
   "outputs": [],
   "source": [
    "# Visualiza\n",
    "df_genero_ratings.head(20)"
   ]
  },
  {
   "cell_type": "code",
   "execution_count": null,
   "id": "91b85f5f",
   "metadata": {},
   "outputs": [],
   "source": [
    "# Drop do índice 18 (news)\n",
    "# Não queremos essa informação como gênero\n",
    "df_genero_ratings = df_genero_ratings.drop(index = 18)"
   ]
  },
  {
   "cell_type": "code",
   "execution_count": null,
   "id": "d5d6aa23",
   "metadata": {},
   "outputs": [],
   "source": [
    "# Ordena o resultado\n",
    "df_genero_ratings = df_genero_ratings.sort_values(by = 'rating', ascending = False)"
   ]
  },
  {
   "cell_type": "code",
   "execution_count": null,
   "id": "ed289d76",
   "metadata": {
    "scrolled": false
   },
   "outputs": [],
   "source": [
    "#Plot \n",
    "\n",
    "#Figura\n",
    "plt.figure(figsize = (16,10))\n",
    "\n",
    "#Barplot \n",
    "sns.barplot(y= df_genero_ratings.genres, x = df_genero_ratings.rating, orient = \"h\")\n",
    "\n",
    "#Textos do gráfico\n",
    "for i in range(len(df_genero_ratings.index)):\n",
    "    \n",
    "    plt.text(4.0,\n",
    "            i + 0.25,\n",
    "            str(df_genero_ratings['count'][df_genero_ratings.index[i]]) + \"filmes\")\n",
    "    \n",
    "    \n",
    "    plt.text(df_genero_ratings.rating[df_genero_ratings.index[i]], \n",
    "    i+0.25,\n",
    "    round(df_genero_ratings[\"rating\"][df_genero_ratings.index[i]],2))\n",
    "    \n",
    "plt.ylabel('Gênero')\n",
    "plt.xlabel('Avaliação')\n",
    "plt.title('\\nMediana de Avaliação por Gênero\\n')\n",
    "plt.show()"
   ]
  },
  {
   "cell_type": "markdown",
   "id": "231ab96e",
   "metadata": {},
   "source": [
    "# Qual é a Mediana das Avaliações em relação ao Ano de Estreia?"
   ]
  },
  {
   "cell_type": "code",
   "execution_count": null,
   "id": "b3555a7d",
   "metadata": {},
   "outputs": [],
   "source": [
    "#Consulta SQL\n",
    "consulta4 = '''SELECT rating AS Rating, premiered \n",
    "               FROM ratings \n",
    "               JOIN titles ON ratings.title_id = titles.title_id\n",
    "               WHERE premiered <= 2020 and type = 'movie'\n",
    "               ORDER BY premiered'''"
   ]
  },
  {
   "cell_type": "code",
   "execution_count": null,
   "id": "7aab371d",
   "metadata": {},
   "outputs": [],
   "source": [
    "#Resultado \n",
    "resultado4 = pd.read_sql_query(consulta4, conn)"
   ]
  },
  {
   "cell_type": "code",
   "execution_count": null,
   "id": "bea62775",
   "metadata": {},
   "outputs": [],
   "source": [
    "#Visualiza o resultado\n",
    "display(resultado4)"
   ]
  },
  {
   "cell_type": "code",
   "execution_count": null,
   "id": "7b557a27",
   "metadata": {},
   "outputs": [],
   "source": [
    "#Calculando a mediana ao longo do tempo (anos)\n",
    "ratings= []\n",
    "for year in set(resultado4['premiered']):\n",
    "    ratings.append(np.median(resultado4[resultado4['premiered'] == year]['Rating']))"
   ]
  },
  {
   "cell_type": "code",
   "execution_count": null,
   "id": "e9e12d9b",
   "metadata": {},
   "outputs": [],
   "source": [
    "type(ratings)"
   ]
  },
  {
   "cell_type": "code",
   "execution_count": null,
   "id": "42d00782",
   "metadata": {},
   "outputs": [],
   "source": [
    "ratings[1:10]"
   ]
  },
  {
   "cell_type": "code",
   "execution_count": null,
   "id": "07562c4e",
   "metadata": {},
   "outputs": [],
   "source": [
    "#Cria lista dos anos\n",
    "anos = list(set(resultado4['premiered']))"
   ]
  },
  {
   "cell_type": "code",
   "execution_count": null,
   "id": "8695894c",
   "metadata": {},
   "outputs": [],
   "source": [
    "anos[1:10]"
   ]
  },
  {
   "cell_type": "code",
   "execution_count": null,
   "id": "ca1685a9",
   "metadata": {},
   "outputs": [],
   "source": [
    "#Plot \n",
    "plt.figure(figsize = (16,8))\n",
    "plt.plot(anos,ratings)\n",
    "plt.ylabel('\\nAno')\n",
    "plt.xlabel('Mediana de Avaliação')\n",
    "plt.title('\\nMediana de Avaliação dos Filmes em relação ao ano de Estréia')\n",
    "plt.show()"
   ]
  },
  {
   "cell_type": "markdown",
   "id": "42b98948",
   "metadata": {},
   "source": [
    "# Qual o número de Filmes Avaliados por Gênero e relação ao ano de Estréia?"
   ]
  },
  {
   "cell_type": "code",
   "execution_count": null,
   "id": "475031e7",
   "metadata": {},
   "outputs": [],
   "source": [
    "#Consulta SQL\n",
    "consulta5 = '''SELECT genres FROM titles'''"
   ]
  },
  {
   "cell_type": "code",
   "execution_count": null,
   "id": "c6a38f64",
   "metadata": {},
   "outputs": [],
   "source": [
    "#Resultado da consulta\n",
    "resultado5 = pd.read_sql_query(consulta5, conn)"
   ]
  },
  {
   "cell_type": "code",
   "execution_count": null,
   "id": "bd1d898a",
   "metadata": {},
   "outputs": [],
   "source": [
    "display(resultado5)"
   ]
  },
  {
   "cell_type": "code",
   "execution_count": null,
   "id": "a2df6396",
   "metadata": {},
   "outputs": [],
   "source": [
    "generos_unicos = retorna_generos(resultado5)"
   ]
  },
  {
   "cell_type": "code",
   "execution_count": null,
   "id": "cd980372",
   "metadata": {},
   "outputs": [],
   "source": [
    "generos_unicos"
   ]
  },
  {
   "cell_type": "code",
   "execution_count": null,
   "id": "1b29e1c5",
   "metadata": {},
   "outputs": [],
   "source": [
    "#Contagem dos Gêneros \n",
    "genero_count = []\n",
    "for item in generos_unicos:\n",
    "    consulta = 'SELECT COUNT (*) COUNT FROM titles WHERE  genres LIKE' + '\\''+'%'+item+'%'+'\\' AND type=\\'movie\\' AND premiered <= 2022'\n",
    "    resultado = pd.read_sql_query(consulta, conn)\n",
    "    genero_count.append(resultado['COUNT'].values[0])"
   ]
  },
  {
   "cell_type": "code",
   "execution_count": null,
   "id": "3040b603",
   "metadata": {},
   "outputs": [],
   "source": [
    "#Prepara o DataFrame \n",
    "df_genero_count = pd.DataFrame()\n",
    "df_genero_count['genre'] = generos_unicos\n",
    "df_genero_count['Count'] = genero_count"
   ]
  },
  {
   "cell_type": "code",
   "execution_count": null,
   "id": "e672a69f",
   "metadata": {},
   "outputs": [],
   "source": [
    "#Calculando o Top 5 \n",
    "df_genero_count = df_genero_count[df_genero_count['genre'] !='n']\n",
    "df_genero_count = df_genero_count.sort_values(by= 'Count', ascending = False)\n",
    "top_generos = df_genero_count.head()['genre'].values"
   ]
  },
  {
   "cell_type": "code",
   "execution_count": null,
   "id": "36044c72",
   "metadata": {
    "scrolled": false
   },
   "outputs": [],
   "source": [
    "#Plot \n",
    "\n",
    "#Figura\n",
    "plt.figure(figsize= (16,8))\n",
    "\n",
    "#Loop e Plot\n",
    "for item in top_generos:\n",
    "    consulta = 'SELECT COUNT(*) Number_of_movies, premiered Year FROM  titles  WHERE genres LIKE '+ '\\''+'%'+item+'%'+'\\' AND type=\\'movie\\' AND Year <=2022 GROUP BY Year'\n",
    "    resultado = pd.read_sql_query(consulta, conn)\n",
    "    plt.plot(resultado['Year'], resultado['Number_of_movies'])\n",
    "    \n",
    "plt.xlabel('\\nAno')\n",
    "plt.ylabel('Qtde de Filmes Avaliados')\n",
    "plt.title('\\nNúmero de Filmes Avaliados por Gêneros em Relação ao Ano de Estréia')\n",
    "plt.show()"
   ]
  },
  {
   "cell_type": "markdown",
   "id": "2e9456ba",
   "metadata": {},
   "source": [
    "# Qual o Filme com o maior tempo de Duração? Calcule o Percentil."
   ]
  },
  {
   "cell_type": "code",
   "execution_count": null,
   "id": "33d4c82a",
   "metadata": {},
   "outputs": [],
   "source": [
    "#Consulta SQL\n",
    "consulta6 = '''SELECT runtime_minutes AS RunTime\n",
    "               FROM titles\n",
    "               WHERE type = 'movie' AND RunTime != 'NaN' '''"
   ]
  },
  {
   "cell_type": "code",
   "execution_count": null,
   "id": "23af9366",
   "metadata": {},
   "outputs": [],
   "source": [
    "#Resultado da Consulta\n",
    "resultado6 = pd.read_sql_query(consulta6, conn)"
   ]
  },
  {
   "cell_type": "code",
   "execution_count": null,
   "id": "0b85cefa",
   "metadata": {},
   "outputs": [],
   "source": [
    "#Visualiza \n",
    "display(resultado6)"
   ]
  },
  {
   "cell_type": "code",
   "execution_count": null,
   "id": "1a15a71d",
   "metadata": {},
   "outputs": [],
   "source": [
    "#Loop para calculos dos Percentis\n",
    "for i in range(101):\n",
    "    val = i \n",
    "    perc = round(np.percentile(resultado6['RunTime'].values, val), 2)\n",
    "    print('{} pencentil da duração (runtime) é: {}'.format(val, perc))"
   ]
  },
  {
   "cell_type": "code",
   "execution_count": null,
   "id": "091761dc",
   "metadata": {},
   "outputs": [],
   "source": [
    "#Refazendo a consulta e trazendo o filme com o maior tempo de duração\n",
    "consulta6 = '''SELECT runtime_minutes AS RunTime\n",
    "               FROM titles\n",
    "               WHERE type = 'movie' AND RunTime != 'NaN'\n",
    "               ORDER BY RunTime DESC \n",
    "               LIMIT 1'''"
   ]
  },
  {
   "cell_type": "code",
   "execution_count": null,
   "id": "c6d7520d",
   "metadata": {},
   "outputs": [],
   "source": [
    "resultado6 = pd.read_sql_query(consulta6, conn)\n",
    "display(resultado6)"
   ]
  },
  {
   "cell_type": "markdown",
   "id": "602ef04f",
   "metadata": {},
   "source": [
    "# Qual a relação entre o Gênero e o Duração?"
   ]
  },
  {
   "cell_type": "code",
   "execution_count": null,
   "id": "e74c8241",
   "metadata": {},
   "outputs": [],
   "source": [
    "#Consulta SQL \n",
    "consulta7 = '''SELECT AVG(runtime_minutes) AS RunTime, genres\n",
    "               FROM titles\n",
    "               WHERE type = 'movie'\n",
    "               AND runtime_minutes != 'NaN'\n",
    "               GROUP BY genres '''"
   ]
  },
  {
   "cell_type": "code",
   "execution_count": null,
   "id": "4f2285c3",
   "metadata": {},
   "outputs": [],
   "source": [
    "resultado7 = pd.read_sql_query(consulta7, conn)"
   ]
  },
  {
   "cell_type": "code",
   "execution_count": null,
   "id": "5b18a242",
   "metadata": {},
   "outputs": [],
   "source": [
    "generos_unicos = retorna_generos(resultado7)"
   ]
  },
  {
   "cell_type": "code",
   "execution_count": null,
   "id": "bf558c6d",
   "metadata": {},
   "outputs": [],
   "source": [
    "duracao_genero = []\n",
    "\n",
    "for item in generos_unicos:\n",
    "    consulta = 'SELECT runtime_minutes Runtime FROM  titles  WHERE genres LIKE '+ '\\''+'%'+item+'%'+'\\' AND type=\\'movie\\' AND Runtime!=\\'NaN\\''\n",
    "    resultado = pd.read_sql_query(consulta, conn)\n",
    "    duracao_genero.append(np.median(resultado['Runtime']))"
   ]
  },
  {
   "cell_type": "code",
   "execution_count": null,
   "id": "f1282dbe",
   "metadata": {},
   "outputs": [],
   "source": [
    "df_duracao_runtime = pd.DataFrame()\n",
    "df_duracao_runtime['genre'] = generos_unicos\n",
    "df_duracao_runtime['runtime'] = duracao_genero"
   ]
  },
  {
   "cell_type": "code",
   "execution_count": null,
   "id": "2a6ff2dd",
   "metadata": {},
   "outputs": [],
   "source": [
    "df_duracao_runtime = df_duracao_runtime.drop(index=18)"
   ]
  },
  {
   "cell_type": "code",
   "execution_count": null,
   "id": "14ca73ba",
   "metadata": {},
   "outputs": [],
   "source": [
    "df_duracao_runtime = df_duracao_runtime.sort_values(by= 'runtime', ascending  = False)"
   ]
  },
  {
   "cell_type": "code",
   "execution_count": null,
   "id": "51fe112d",
   "metadata": {},
   "outputs": [],
   "source": [
    "#Plot\n",
    "\n",
    "# Tamanho da figura\n",
    "plt.figure(figsize = (16,8))\n",
    "\n",
    "# Barplot\n",
    "sns.barplot(y = df_duracao_runtime.genre, x = df_duracao_runtime.runtime, orient = \"h\")\n",
    "\n",
    "# Loop\n",
    "for i in range(len(df_duracao_runtime.index)):\n",
    "    plt.text(df_duracao_runtime.runtime[df_duracao_runtime.index[i]],\n",
    "             i + 0.25,\n",
    "             round(df_duracao_runtime[\"runtime\"][df_duracao_runtime.index[i]], 2))\n",
    "\n",
    "plt.ylabel('Gênero')             \n",
    "plt.xlabel('\\nMediana de Tempo de Duração (Minutos)')\n",
    "plt.title('\\nRelação Entre Duração e Gênero\\n')\n",
    "plt.show()"
   ]
  },
  {
   "cell_type": "markdown",
   "id": "4db15d90",
   "metadata": {},
   "source": [
    "# Qual o Número de Filmes Produzidos Por País?"
   ]
  },
  {
   "cell_type": "code",
   "execution_count": null,
   "id": "216a96f4",
   "metadata": {},
   "outputs": [],
   "source": [
    "# Consulta SQL\n",
    "consulta8 = '''\n",
    "            SELECT region, COUNT(*) Number_of_movies FROM \n",
    "            akas JOIN titles ON \n",
    "            akas.title_id = titles.title_id\n",
    "            WHERE region != 'None'\n",
    "            AND type = \\'movie\\'\n",
    "            GROUP BY region\n",
    "            '''"
   ]
  },
  {
   "cell_type": "code",
   "execution_count": null,
   "id": "18fc2f80",
   "metadata": {},
   "outputs": [],
   "source": [
    "# Resultado\n",
    "resultado8 = pd.read_sql_query(consulta8, conn)"
   ]
  },
  {
   "cell_type": "code",
   "execution_count": null,
   "id": "d35b2d2d",
   "metadata": {},
   "outputs": [],
   "source": [
    "\n",
    "display(resultado8)"
   ]
  },
  {
   "cell_type": "code",
   "execution_count": null,
   "id": "162fa24c",
   "metadata": {},
   "outputs": [],
   "source": [
    "resultado8.shape"
   ]
  },
  {
   "cell_type": "code",
   "execution_count": null,
   "id": "14d8b2b5",
   "metadata": {},
   "outputs": [],
   "source": [
    "resultado8.shape[0]"
   ]
  },
  {
   "cell_type": "code",
   "execution_count": null,
   "id": "f12151c3",
   "metadata": {},
   "outputs": [],
   "source": [
    "nomes_paises = []\n",
    "contagem = []"
   ]
  },
  {
   "cell_type": "code",
   "execution_count": null,
   "id": "17ac83e4",
   "metadata": {},
   "outputs": [],
   "source": [
    "# Loop para obter o país de acordo com a região\n",
    "for i in range(resultado8.shape[0]):\n",
    "    try:\n",
    "        coun = resultado8['region'].values[i]\n",
    "        nomes_paises.append(pycountry.countries.get(alpha_2 = coun).name)\n",
    "        contagem.append(resultado8['Number_of_movies'].values[i])\n",
    "    except: \n",
    "        continue"
   ]
  },
  {
   "cell_type": "code",
   "execution_count": null,
   "id": "2ec156fd",
   "metadata": {},
   "outputs": [],
   "source": [
    "# Prepara o dataframe\n",
    "df_filmes_paises = pd.DataFrame()\n",
    "df_filmes_paises['country'] = nomes_paises\n",
    "df_filmes_paises['Movie_Count'] = contagem"
   ]
  },
  {
   "cell_type": "code",
   "execution_count": null,
   "id": "bd2d8e5e",
   "metadata": {},
   "outputs": [],
   "source": [
    "# Ordena o resultado\n",
    "df_filmes_paises = df_filmes_paises.sort_values(by = 'Movie_Count', ascending = False)"
   ]
  },
  {
   "cell_type": "code",
   "execution_count": null,
   "id": "99186d08",
   "metadata": {},
   "outputs": [],
   "source": [
    "# Visualiza\n",
    "df_filmes_paises.head(10)"
   ]
  },
  {
   "cell_type": "code",
   "execution_count": null,
   "id": "3d43a4f2",
   "metadata": {},
   "outputs": [],
   "source": [
    "# # Plot\n",
    "\n",
    "# Figura\n",
    "plt.figure(figsize = (20,8))\n",
    "\n",
    "# Barplot\n",
    "sns.barplot(y = df_filmes_paises[:20].country, x = df_filmes_paises[:20].Movie_Count, orient = \"h\")\n",
    "\n",
    "# Loop\n",
    "for i in range(0,20):\n",
    "    plt.text(df_filmes_paises.Movie_Count[df_filmes_paises.index[i]]-1,\n",
    "             i + 0.30,\n",
    "             round(df_filmes_paises[\"Movie_Count\"][df_filmes_paises.index[i]],2))\n",
    "\n",
    "plt.ylabel('País')             \n",
    "plt.xlabel('\\nNúmero de Filmes')\n",
    "plt.title('\\nNúmero de Filmes Produzidos Por País\\n')\n",
    "plt.show()"
   ]
  },
  {
   "cell_type": "markdown",
   "id": "d2d769fd",
   "metadata": {},
   "source": [
    "# Quais São os Top 10 Melhores Filmes?"
   ]
  },
  {
   "cell_type": "code",
   "execution_count": null,
   "id": "0b734948",
   "metadata": {},
   "outputs": [],
   "source": [
    "# Consulta SQL\n",
    "consulta9 = '''\n",
    "            SELECT primary_title AS Movie_Name, genres, rating\n",
    "            FROM \n",
    "            titles JOIN ratings\n",
    "            ON  titles.title_id = ratings.title_id\n",
    "            WHERE titles.type = 'movie' AND ratings.votes >= 25000\n",
    "            ORDER BY rating DESC\n",
    "            LIMIT 10          \n",
    "            '''"
   ]
  },
  {
   "cell_type": "code",
   "execution_count": null,
   "id": "cdd8368a",
   "metadata": {},
   "outputs": [],
   "source": [
    "# Resultado\n",
    "top10_melhores_filmes = pd.read_sql_query(consulta9, conn)"
   ]
  },
  {
   "cell_type": "code",
   "execution_count": null,
   "id": "a4190b48",
   "metadata": {},
   "outputs": [],
   "source": [
    "display(top10_melhores_filmes)"
   ]
  },
  {
   "cell_type": "markdown",
   "id": "b8552a22",
   "metadata": {},
   "source": [
    "# Quais São os Top 10 Melhores Filmes?"
   ]
  },
  {
   "cell_type": "code",
   "execution_count": null,
   "id": "1d10f204",
   "metadata": {},
   "outputs": [],
   "source": [
    "# Consulta SQL\n",
    "consulta10 = '''\n",
    "            SELECT primary_title AS Movie_Name, genres, rating\n",
    "            FROM \n",
    "            titles JOIN ratings\n",
    "            ON  titles.title_id = ratings.title_id\n",
    "            WHERE titles.type = 'movie' AND ratings.votes >= 25000\n",
    "            ORDER BY rating ASC\n",
    "            LIMIT 10          \n",
    "            '''"
   ]
  },
  {
   "cell_type": "code",
   "execution_count": null,
   "id": "dba9a3dd",
   "metadata": {},
   "outputs": [],
   "source": [
    "# Resultado\n",
    "top10_piores_filmes = pd.read_sql_query(consulta10, conn)"
   ]
  },
  {
   "cell_type": "code",
   "execution_count": null,
   "id": "2f61842d",
   "metadata": {},
   "outputs": [],
   "source": [
    "display(top10_piores_filmes)"
   ]
  }
 ],
 "metadata": {
  "kernelspec": {
   "display_name": "Python 3",
   "language": "python",
   "name": "python3"
  },
  "language_info": {
   "codemirror_mode": {
    "name": "ipython",
    "version": 3
   },
   "file_extension": ".py",
   "mimetype": "text/x-python",
   "name": "python",
   "nbconvert_exporter": "python",
   "pygments_lexer": "ipython3",
   "version": "3.8.8"
  }
 },
 "nbformat": 4,
 "nbformat_minor": 5
}
